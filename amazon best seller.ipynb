{
 "cells": [
  {
   "cell_type": "code",
   "execution_count": 1,
   "metadata": {},
   "outputs": [],
   "source": [
    "from ast import Break\n",
    "import re\n",
    "from unittest import result\n",
    "from urllib.error import URLError\n",
    "from selenium import webdriver\n",
    "from selenium.webdriver.common.keys import Keys\n",
    "from selenium.webdriver.common.by import By\n",
    "from selenium.webdriver.support.ui import WebDriverWait\n",
    "from selenium.webdriver.support import expected_conditions as EC\n",
    "from selenium.webdriver import Firefox\n",
    "from selenium.webdriver.common.action_chains import ActionChains\n",
    "from selenium.webdriver.support.events import EventFiringWebDriver, AbstractEventListener\n",
    "from selenium.common.exceptions import NoSuchElementException\n",
    "from selenium.webdriver.support.wait import WebDriverWait\n",
    "import time\n",
    "from time import sleep\n",
    "import pandas as pd\n",
    "import numpy as np\n",
    "from tqdm import tqdm"
   ]
  },
  {
   "cell_type": "code",
   "execution_count": 2,
   "metadata": {},
   "outputs": [],
   "source": [
    "url =\"https://www.amazon.com/Best-Sellers-Cell-Phones/zgbs/electronics/7072561011\"\n",
    "products_list = []\n",
    "no_of_best_selling = 50\n"
   ]
  },
  {
   "cell_type": "code",
   "execution_count": 3,
   "metadata": {},
   "outputs": [],
   "source": [
    "driver = webdriver.Firefox()\n",
    "actions = ActionChains(driver)\n",
    "driver.get(url)\n",
    "product_search = url.split('/')[3].replace('-', '')"
   ]
  },
  {
   "cell_type": "code",
   "execution_count": 4,
   "metadata": {},
   "outputs": [
    {
     "name": "stderr",
     "output_type": "stream",
     "text": [
      "secondary scraper: 100%|██████████| 50/50 [00:03<00:00, 12.60product/s]\n"
     ]
    }
   ],
   "source": [
    "while True:\n",
    "    try:\n",
    "        ActionChains(driver).send_keys(Keys.END).perform()\n",
    "        sleep(1)\n",
    "        products = driver.find_elements(By.CSS_SELECTOR, 'div[id=\"gridItemRoot\"]')\n",
    "        if len(products)+1 >= no_of_best_selling:\n",
    "            break\n",
    "    except:\n",
    "        pass \n",
    "\n",
    "with tqdm(total=len(products),unit =\"product\", desc =\"secondary scraper\") as pbar:   \n",
    "    for product in products :\n",
    "        name = product.find_element(By.CSS_SELECTOR, 'div[class=\"_cDEzb_p13n-sc-css-line-clamp-3_g3dy1\"]').text\n",
    "        url = product.find_element(By.CSS_SELECTOR, 'a[class=\"a-link-normal\"]').get_attribute('href')\n",
    "        rating = float(product.find_element(By.CSS_SELECTOR, 'a > i > span[class=\"a-icon-alt\"]').get_attribute('innerHTML').split(' ')[0])\n",
    "        image = product.find_element(By.TAG_NAME, 'img').get_attribute('src')\n",
    "        try:\n",
    "            price = product.find_element(By.CSS_SELECTOR,'span[class=\"_cDEzb_p13n-sc-price_3mJ9Z\"]').text\n",
    "        except:\n",
    "            no_of_offers = product.find_element(By.CSS_SELECTOR,'span[class=\"a-color-secondary\"]').text\n",
    "            starts_from = product.find_element(By.CSS_SELECTOR,'span[class=\"p13n-sc-price\"]').text\n",
    "            price = no_of_offers + starts_from\n",
    "        \n",
    "        product_dict = {'Name': name, \n",
    "                        'Product Page': url, \n",
    "                        'Image': image, \n",
    "                        'Price': price , \n",
    "                        'Rating': rating }\n",
    "        \n",
    "        products_list.append(product_dict)\n",
    "        \n",
    "        pbar.update(1) \n",
    "        \n",
    "          \n",
    "driver.quit()  \n",
    "df = pd.DataFrame(products_list) "
   ]
  },
  {
   "cell_type": "code",
   "execution_count": 5,
   "metadata": {},
   "outputs": [
    {
     "name": "stdout",
     "output_type": "stream",
     "text": [
      "<class 'pandas.core.frame.DataFrame'>\n",
      "RangeIndex: 50 entries, 0 to 49\n",
      "Data columns (total 5 columns):\n",
      " #   Column        Non-Null Count  Dtype  \n",
      "---  ------        --------------  -----  \n",
      " 0   Name          50 non-null     object \n",
      " 1   Product Page  50 non-null     object \n",
      " 2   Image         50 non-null     object \n",
      " 3   Price         50 non-null     object \n",
      " 4   Rating        50 non-null     float64\n",
      "dtypes: float64(1), object(4)\n",
      "memory usage: 2.1+ KB\n"
     ]
    }
   ],
   "source": [
    "df.info()"
   ]
  },
  {
   "cell_type": "code",
   "execution_count": 6,
   "metadata": {},
   "outputs": [
    {
     "data": {
      "text/html": [
       "<div>\n",
       "<style scoped>\n",
       "    .dataframe tbody tr th:only-of-type {\n",
       "        vertical-align: middle;\n",
       "    }\n",
       "\n",
       "    .dataframe tbody tr th {\n",
       "        vertical-align: top;\n",
       "    }\n",
       "\n",
       "    .dataframe thead th {\n",
       "        text-align: right;\n",
       "    }\n",
       "</style>\n",
       "<table border=\"1\" class=\"dataframe\">\n",
       "  <thead>\n",
       "    <tr style=\"text-align: right;\">\n",
       "      <th></th>\n",
       "      <th>Name</th>\n",
       "      <th>Product Page</th>\n",
       "      <th>Image</th>\n",
       "      <th>Price</th>\n",
       "      <th>Rating</th>\n",
       "    </tr>\n",
       "  </thead>\n",
       "  <tbody>\n",
       "    <tr>\n",
       "      <th>45</th>\n",
       "      <td>Samsung Galaxy S20 FE 5G (128GB, 6GB) 6.5\" AMO...</td>\n",
       "      <td>https://www.amazon.com/Samsung-Snapdragon-Resi...</td>\n",
       "      <td>https://images-na.ssl-images-amazon.com/images...</td>\n",
       "      <td>$208.00</td>\n",
       "      <td>4.1</td>\n",
       "    </tr>\n",
       "    <tr>\n",
       "      <th>46</th>\n",
       "      <td>Google Pixel 4a Smartphone, 128GB Storage &amp; Un...</td>\n",
       "      <td>https://www.amazon.com/Google-Smartphone-Stora...</td>\n",
       "      <td>https://images-na.ssl-images-amazon.com/images...</td>\n",
       "      <td>$138.00</td>\n",
       "      <td>4.0</td>\n",
       "    </tr>\n",
       "    <tr>\n",
       "      <th>47</th>\n",
       "      <td>LIVELY Jitterbug Smart3 Smartphone for Seniors</td>\n",
       "      <td>https://www.amazon.com/Jitterbug-Smart3-Smartp...</td>\n",
       "      <td>https://images-na.ssl-images-amazon.com/images...</td>\n",
       "      <td>3 offers from $66.00$66.00</td>\n",
       "      <td>4.0</td>\n",
       "    </tr>\n",
       "    <tr>\n",
       "      <th>48</th>\n",
       "      <td>Samsung Galaxy S20 Ultra, 128GB, Cosmic Black ...</td>\n",
       "      <td>https://www.amazon.com/Samsung-Galaxy-Ultra-12...</td>\n",
       "      <td>https://images-na.ssl-images-amazon.com/images...</td>\n",
       "      <td>$291.50</td>\n",
       "      <td>4.2</td>\n",
       "    </tr>\n",
       "    <tr>\n",
       "      <th>49</th>\n",
       "      <td>Google Pixel 6a - 5G Android Phone - Unlocked ...</td>\n",
       "      <td>https://www.amazon.com/Google-Pixel-6a-Smartph...</td>\n",
       "      <td>https://images-na.ssl-images-amazon.com/images...</td>\n",
       "      <td>$244.00</td>\n",
       "      <td>3.8</td>\n",
       "    </tr>\n",
       "  </tbody>\n",
       "</table>\n",
       "</div>"
      ],
      "text/plain": [
       "                                                 Name  \\\n",
       "45  Samsung Galaxy S20 FE 5G (128GB, 6GB) 6.5\" AMO...   \n",
       "46  Google Pixel 4a Smartphone, 128GB Storage & Un...   \n",
       "47     LIVELY Jitterbug Smart3 Smartphone for Seniors   \n",
       "48  Samsung Galaxy S20 Ultra, 128GB, Cosmic Black ...   \n",
       "49  Google Pixel 6a - 5G Android Phone - Unlocked ...   \n",
       "\n",
       "                                         Product Page  \\\n",
       "45  https://www.amazon.com/Samsung-Snapdragon-Resi...   \n",
       "46  https://www.amazon.com/Google-Smartphone-Stora...   \n",
       "47  https://www.amazon.com/Jitterbug-Smart3-Smartp...   \n",
       "48  https://www.amazon.com/Samsung-Galaxy-Ultra-12...   \n",
       "49  https://www.amazon.com/Google-Pixel-6a-Smartph...   \n",
       "\n",
       "                                                Image  \\\n",
       "45  https://images-na.ssl-images-amazon.com/images...   \n",
       "46  https://images-na.ssl-images-amazon.com/images...   \n",
       "47  https://images-na.ssl-images-amazon.com/images...   \n",
       "48  https://images-na.ssl-images-amazon.com/images...   \n",
       "49  https://images-na.ssl-images-amazon.com/images...   \n",
       "\n",
       "                         Price  Rating  \n",
       "45                     $208.00     4.1  \n",
       "46                     $138.00     4.0  \n",
       "47  3 offers from $66.00$66.00     4.0  \n",
       "48                     $291.50     4.2  \n",
       "49                     $244.00     3.8  "
      ]
     },
     "execution_count": 6,
     "metadata": {},
     "output_type": "execute_result"
    }
   ],
   "source": [
    "df.tail()"
   ]
  },
  {
   "cell_type": "code",
   "execution_count": 7,
   "metadata": {},
   "outputs": [],
   "source": [
    "df.to_csv(f'best selling {product_search} on amazon.csv')"
   ]
  }
 ],
 "metadata": {
  "kernelspec": {
   "display_name": "Python 3.6.3 64-bit",
   "language": "python",
   "name": "python3"
  },
  "language_info": {
   "codemirror_mode": {
    "name": "ipython",
    "version": 3
   },
   "file_extension": ".py",
   "mimetype": "text/x-python",
   "name": "python",
   "nbconvert_exporter": "python",
   "pygments_lexer": "ipython3",
   "version": "3.10.9"
  },
  "orig_nbformat": 4,
  "vscode": {
   "interpreter": {
    "hash": "7aa731c368081d82b100ed2cc0276b2bf551f3c8feadedee7a0da391d7a1ac37"
   }
  }
 },
 "nbformat": 4,
 "nbformat_minor": 2
}
